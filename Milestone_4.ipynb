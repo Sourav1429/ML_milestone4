{
  "nbformat": 4,
  "nbformat_minor": 0,
  "metadata": {
    "colab": {
      "provenance": [],
      "authorship_tag": "ABX9TyNiTd7erMkTgE5tO8VjQj7P",
      "include_colab_link": true
    },
    "kernelspec": {
      "name": "python3",
      "display_name": "Python 3"
    },
    "language_info": {
      "name": "python"
    }
  },
  "cells": [
    {
      "cell_type": "markdown",
      "metadata": {
        "id": "view-in-github",
        "colab_type": "text"
      },
      "source": [
        "<a href=\"https://colab.research.google.com/github/Sourav1429/ML_milestone4/blob/main/Milestone_4.ipynb\" target=\"_parent\"><img src=\"https://colab.research.google.com/assets/colab-badge.svg\" alt=\"Open In Colab\"/></a>"
      ]
    },
    {
      "cell_type": "code",
      "execution_count": 1,
      "metadata": {
        "colab": {
          "base_uri": "https://localhost:8080/"
        },
        "id": "3199DBiOzucm",
        "outputId": "3ff83b03-8e0c-40e6-dd15-2f5aad797e93"
      },
      "outputs": [
        {
          "output_type": "stream",
          "name": "stdout",
          "text": [
            "Cloning into 'ML_milestone4'...\n",
            "remote: Enumerating objects: 41, done.\u001b[K\n",
            "remote: Counting objects: 100% (41/41), done.\u001b[K\n",
            "remote: Compressing objects: 100% (35/35), done.\u001b[K\n",
            "remote: Total 41 (delta 6), reused 0 (delta 0), pack-reused 0 (from 0)\u001b[K\n",
            "Receiving objects: 100% (41/41), 188.66 KiB | 4.49 MiB/s, done.\n",
            "Resolving deltas: 100% (6/6), done.\n"
          ]
        }
      ],
      "source": [
        "!git clone https://github.com/Sourav1429/ML_milestone4.git"
      ]
    },
    {
      "cell_type": "code",
      "source": [
        "!cd /content/ML_milestone4/fast_knn"
      ],
      "metadata": {
        "id": "aeaqETfs0Afb"
      },
      "execution_count": 2,
      "outputs": []
    },
    {
      "cell_type": "code",
      "source": [
        "!python /content/ML_milestone4/fast_knn/fast_knn.py#Chnage the path in fast_knn.py file"
      ],
      "metadata": {
        "colab": {
          "base_uri": "https://localhost:8080/"
        },
        "id": "MtTxquGv0G9c",
        "outputId": "bd94e99b-466a-4dce-c6f2-5d5392ac9614"
      },
      "execution_count": 4,
      "outputs": [
        {
          "output_type": "stream",
          "name": "stdout",
          "text": [
            "Data prepared\n",
            "Best k: 9\n",
            "Training Error for Best k: 0.15116044399596362\n",
            "Test Error for Best k: 0.17514124293785316\n",
            "Accuracy score:0.8248587570621468\n",
            "Number of updates is: 4955\n",
            "Time taken by elbo method: 5.346879482269287\n",
            "Get the accuracies: 0.8192090395480226 ==> 0.8135593220338984 for k: 8\n",
            "Get the accuracies: 0.8232445520581114 ==> 0.8240516545601292 for k: 12\n",
            "Get the accuracies: 0.8248587570621468 ==> 0.8200161420500404 for k: 10\n",
            "Get the accuracies: 0.8200161420500404 ==> 0.8232445520581114 for k: 11\n",
            "Best k is: 11\n",
            "Time taken by fast-knn method: 2.6910598278045654\n",
            "Figure(640x480)\n"
          ]
        }
      ]
    },
    {
      "cell_type": "code",
      "source": [
        "!python /content/ML_milestone4/unlearning/driver_MBA.py # change the path in driver_MBA"
      ],
      "metadata": {
        "colab": {
          "base_uri": "https://localhost:8080/"
        },
        "id": "8RQPlI1x0LOT",
        "outputId": "566270a0-8bea-45ea-da5c-131d6934b92d"
      },
      "execution_count": 5,
      "outputs": [
        {
          "output_type": "stream",
          "name": "stdout",
          "text": [
            "Figure(640x480)\n",
            "(6194, 6)\n",
            "Training complete\n",
            "[1. 0. 0. ... 0. 0. 0.]\n",
            "0.8218205293737896\n",
            "Initial members of each router set\n",
            "mod: 1202\n",
            "mod: 1157\n",
            "mod: 1112\n",
            "mod: 1174\n",
            "Data points removed\n",
            "Final members of each router set\n",
            "mod: 874\n",
            "mod: 841\n",
            "mod: 895\n",
            "mod: 846\n",
            "[0. 0. 0. ... 0. 0. 0.]\n",
            "0.8244028405422853\n",
            "Training complete\n",
            "[0. 0. 0. ... 0. 0. 0.]\n",
            "0.8211749515816655\n"
          ]
        }
      ]
    }
  ]
}